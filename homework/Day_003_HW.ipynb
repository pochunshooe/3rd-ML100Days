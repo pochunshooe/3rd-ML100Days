{
 "cells": [
  {
   "cell_type": "markdown",
   "metadata": {},
   "source": [
    "作業 1：目標\n",
    "我閱讀的是Bridging the Domain Gap for Neural Models,\n",
    "出處https://machinelearning.apple.com/2019/06/15/bridging-the-domain-gap-for-neural-models.html\n",
    "在SVHN和MNIST兩個dataset中，發現使用CNN預測出來的準確度，without adaptation的準確度僅67.1%\n",
    "而with adaptation，準確度可以到98.9%\n",
    "希望找出一個方法，讓演算法預測出來的準確率不會差距太大"
   ]
  },
  {
   "cell_type": "markdown",
   "metadata": {},
   "source": [
    "作業 2：方法\n",
    "使用Sliced Wasserstein discrepancy計算與outputs p1和p2的距離"
   ]
  },
  {
   "cell_type": "markdown",
   "metadata": {},
   "source": [
    "作業 3：資料來源\n",
    "SVHN和MNIST兩個dataset"
   ]
  }
 ],
 "metadata": {
  "kernelspec": {
   "display_name": "Python 3",
   "language": "python",
   "name": "python3"
  },
  "language_info": {
   "codemirror_mode": {
    "name": "ipython",
    "version": 3
   },
   "file_extension": ".py",
   "mimetype": "text/x-python",
   "name": "python",
   "nbconvert_exporter": "python",
   "pygments_lexer": "ipython3",
   "version": "3.7.3"
  }
 },
 "nbformat": 4,
 "nbformat_minor": 2
}
