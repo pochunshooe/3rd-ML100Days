{
 "cells": [
  {
   "cell_type": "markdown",
   "metadata": {},
   "source": [
    "作業\n",
    "請找出一個你認為機器學習可以發光發熱的領域並闡述原因?\n",
    "\n",
    "ANS:\n",
    "我認為機器學習可以在醫療產業發光發熱。在醫學上，還有很多病因是沒有辦法被現在的醫學所探討到的，因此，透過大量蒐集到的數據、基因檢測等方法，不斷地在找尋可能的原因。而龐大的資訊無法快速地被專業人士判斷，因此透過機器學習的方式，不斷的歸類、分析，將有機會突破現狀，而找到可能致病的一些原因，未來就有機會針對這些原因提出預防/治療的方式"
   ]
  }
 ],
 "metadata": {
  "kernelspec": {
   "display_name": "Python 3",
   "language": "python",
   "name": "python3"
  },
  "language_info": {
   "codemirror_mode": {
    "name": "ipython",
    "version": 3
   },
   "file_extension": ".py",
   "mimetype": "text/x-python",
   "name": "python",
   "nbconvert_exporter": "python",
   "pygments_lexer": "ipython3",
   "version": "3.7.1"
  }
 },
 "nbformat": 4,
 "nbformat_minor": 2
}
